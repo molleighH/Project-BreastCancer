{
 "cells": [
  {
   "cell_type": "code",
   "execution_count": 1,
   "metadata": {},
   "outputs": [],
   "source": [
    "# Dependencies and Setup\n",
    "import csv\n",
    "import numpy as np\n",
    "import pandas as pd\n",
    "import scipy.stats as st\n",
    "import seaborn as sns\n",
    "import matplotlib.pyplot as plt\n",
    "\n",
    "from scipy import stats\n",
    "\n"
   ]
  },
  {
   "cell_type": "code",
   "execution_count": 2,
   "metadata": {},
   "outputs": [
    {
     "name": "stdout",
     "output_type": "stream",
     "text": [
      "      age1  age menopause tumor-size inv-nodes node-caps  deg-malig breast  \\\n",
      "0    40-49   45   premeno      15-19       0-2       yes          3  right   \n",
      "1    40-50   45      ge40      15-19       0-2        no          1  right   \n",
      "2    40-51   46      ge40      35-39       0-2        no          2   left   \n",
      "3    40-52   46   premeno      35-39       0-2       yes          3  right   \n",
      "4    40-53   47   premeno      30-34       3-5       yes          2   left   \n",
      "..     ...  ...       ...        ...       ...       ...        ...    ...   \n",
      "281  50-59   55      ge40      30-34       6-8       yes          2   left   \n",
      "282  50-59   55   premeno      25-29       3-5       yes          2   left   \n",
      "283  30-39   35   premeno      30-34       6-8       yes          2  right   \n",
      "284  50-59   55   premeno      15-19       0-2        no          2  right   \n",
      "285  50-59   55      ge40      40-44       0-2        no          3   left   \n",
      "\n",
      "    breast-quad irradiat                 Class  \n",
      "0       left_up       no     recurrence-events  \n",
      "1       central       no  no-recurrence-events  \n",
      "2      left_low       no     recurrence-events  \n",
      "3      left_low      yes  no-recurrence-events  \n",
      "4      right_up       no     recurrence-events  \n",
      "..          ...      ...                   ...  \n",
      "281    left_low       no  no-recurrence-events  \n",
      "282    left_low      yes  no-recurrence-events  \n",
      "283    right_up       no  no-recurrence-events  \n",
      "284    left_low       no  no-recurrence-events  \n",
      "285    right_up       no  no-recurrence-events  \n",
      "\n",
      "[286 rows x 11 columns]\n"
     ]
    }
   ],
   "source": [
    "# Study data files\n",
    "clean_data_path = \"/Users/molleighhughes/Desktop/Prjct1/breast_cancer3.csv\"\n",
    "unclean_data_path = \"/Users/molleighhughes/Desktop/Prjct1/uncleandata.csv\"\n",
    "\n",
    "#Read breast cancer data & study the results\n",
    "clean_df = pd.read_csv(clean_data_path)\n",
    "unclean_df = pd.read_csv(unclean_data_path)\n",
    "\n",
    "#Display the data table for review \n",
    "print(clean_df)"
   ]
  },
  {
   "cell_type": "code",
   "execution_count": 3,
   "metadata": {},
   "outputs": [
    {
     "name": "stdout",
     "output_type": "stream",
     "text": [
      "      Age   Race Marital Status T Stage  N Stage 6th Stage  \\\n",
      "0      68  White        Married       T1      N1       IIA   \n",
      "1      50  White        Married       T2      N2      IIIA   \n",
      "2      58  White       Divorced       T3      N3      IIIC   \n",
      "3      58  White        Married       T1      N1       IIA   \n",
      "4      47  White        Married       T2      N1       IIB   \n",
      "...   ...    ...            ...      ...     ...       ...   \n",
      "4019   62  Other        Married       T1      N1       IIA   \n",
      "4020   56  White       Divorced       T2      N2      IIIA   \n",
      "4021   68  White        Married       T2      N1       IIB   \n",
      "4022   58  Black       Divorced       T2      N1       IIB   \n",
      "4023   46  White        Married       T2      N1       IIB   \n",
      "\n",
      "                  differentiate Grade   A Stage  Tumor Size Estrogen Status  \\\n",
      "0         Poorly differentiated     3  Regional           4        Positive   \n",
      "1     Moderately differentiated     2  Regional          35        Positive   \n",
      "2     Moderately differentiated     2  Regional          63        Positive   \n",
      "3         Poorly differentiated     3  Regional          18        Positive   \n",
      "4         Poorly differentiated     3  Regional          41        Positive   \n",
      "...                         ...   ...       ...         ...             ...   \n",
      "4019  Moderately differentiated     2  Regional           9        Positive   \n",
      "4020  Moderately differentiated     2  Regional          46        Positive   \n",
      "4021  Moderately differentiated     2  Regional          22        Positive   \n",
      "4022  Moderately differentiated     2  Regional          44        Positive   \n",
      "4023  Moderately differentiated     2  Regional          30        Positive   \n",
      "\n",
      "     Progesterone Status  Regional Node Examined  Reginol Node Positive  \\\n",
      "0               Positive                      24                      1   \n",
      "1               Positive                      14                      5   \n",
      "2               Positive                      14                      7   \n",
      "3               Positive                       2                      1   \n",
      "4               Positive                       3                      1   \n",
      "...                  ...                     ...                    ...   \n",
      "4019            Positive                       1                      1   \n",
      "4020            Positive                      14                      8   \n",
      "4021            Negative                      11                      3   \n",
      "4022            Positive                      11                      1   \n",
      "4023            Positive                       7                      2   \n",
      "\n",
      "      Survival Months Status  \n",
      "0                  60  Alive  \n",
      "1                  62  Alive  \n",
      "2                  75  Alive  \n",
      "3                  84  Alive  \n",
      "4                  50  Alive  \n",
      "...               ...    ...  \n",
      "4019               49  Alive  \n",
      "4020               69  Alive  \n",
      "4021               69  Alive  \n",
      "4022               72  Alive  \n",
      "4023              100  Alive  \n",
      "\n",
      "[4024 rows x 16 columns]\n"
     ]
    }
   ],
   "source": [
    "#Display the data table for review \n",
    "print(unclean_df)"
   ]
  },
  {
   "cell_type": "code",
   "execution_count": 4,
   "metadata": {},
   "outputs": [
    {
     "name": "stdout",
     "output_type": "stream",
     "text": [
      "     menopause                 Class  Survival Months\n",
      "0      premeno     recurrence-events               60\n",
      "1         ge40  no-recurrence-events               62\n",
      "2         ge40     recurrence-events               75\n",
      "3      premeno  no-recurrence-events               84\n",
      "4      premeno     recurrence-events               50\n",
      "...        ...                   ...              ...\n",
      "4019       NaN                   NaN               49\n",
      "4020       NaN                   NaN               69\n",
      "4021       NaN                   NaN               69\n",
      "4022       NaN                   NaN               72\n",
      "4023       NaN                   NaN              100\n",
      "\n",
      "[4024 rows x 3 columns]\n"
     ]
    }
   ],
   "source": [
    "#Combine data into a single DataFrame\n",
    "\n",
    "#Select the non-contiguous columns I want to merge from clean_df\n",
    "clean_columns = clean_df[['menopause', 'Class']]\n",
    "\n",
    "#Select the column I want to merge from unclean_df\n",
    "unclean_column = unclean_df[['Survival Months']]\n",
    "\n",
    "#Concatenate the selected columns horizontally (along columns)\n",
    "trivariate_df = pd.concat([clean_columns, unclean_column], axis=1)\n",
    "\n",
    "#Display theh data tabel for preview\n",
    "print(trivariate_df)"
   ]
  },
  {
   "cell_type": "code",
   "execution_count": 5,
   "metadata": {},
   "outputs": [],
   "source": [
    "#Drop NaNs\n",
    "#trivariate_df = trivariate_df.dropna()\n",
    "\n",
    "#display new \n",
    "#print(trivariate_df)"
   ]
  },
  {
   "cell_type": "code",
   "execution_count": 6,
   "metadata": {},
   "outputs": [
    {
     "data": {
      "text/html": [
       "<div>\n",
       "<style scoped>\n",
       "    .dataframe tbody tr th:only-of-type {\n",
       "        vertical-align: middle;\n",
       "    }\n",
       "\n",
       "    .dataframe tbody tr th {\n",
       "        vertical-align: top;\n",
       "    }\n",
       "\n",
       "    .dataframe thead th {\n",
       "        text-align: right;\n",
       "    }\n",
       "</style>\n",
       "<table border=\"1\" class=\"dataframe\">\n",
       "  <thead>\n",
       "    <tr style=\"text-align: right;\">\n",
       "      <th></th>\n",
       "      <th>Survival Months</th>\n",
       "    </tr>\n",
       "  </thead>\n",
       "  <tbody>\n",
       "    <tr>\n",
       "      <th>count</th>\n",
       "      <td>4024.000000</td>\n",
       "    </tr>\n",
       "    <tr>\n",
       "      <th>mean</th>\n",
       "      <td>71.297962</td>\n",
       "    </tr>\n",
       "    <tr>\n",
       "      <th>std</th>\n",
       "      <td>22.921430</td>\n",
       "    </tr>\n",
       "    <tr>\n",
       "      <th>min</th>\n",
       "      <td>1.000000</td>\n",
       "    </tr>\n",
       "    <tr>\n",
       "      <th>25%</th>\n",
       "      <td>56.000000</td>\n",
       "    </tr>\n",
       "    <tr>\n",
       "      <th>50%</th>\n",
       "      <td>73.000000</td>\n",
       "    </tr>\n",
       "    <tr>\n",
       "      <th>75%</th>\n",
       "      <td>90.000000</td>\n",
       "    </tr>\n",
       "    <tr>\n",
       "      <th>max</th>\n",
       "      <td>107.000000</td>\n",
       "    </tr>\n",
       "  </tbody>\n",
       "</table>\n",
       "</div>"
      ],
      "text/plain": [
       "       Survival Months\n",
       "count      4024.000000\n",
       "mean         71.297962\n",
       "std          22.921430\n",
       "min           1.000000\n",
       "25%          56.000000\n",
       "50%          73.000000\n",
       "75%          90.000000\n",
       "max         107.000000"
      ]
     },
     "execution_count": 6,
     "metadata": {},
     "output_type": "execute_result"
    }
   ],
   "source": [
    "#Display & check our integer column = Survival Months\n",
    "trivariate_df.describe(include=[np.number])"
   ]
  },
  {
   "cell_type": "code",
   "execution_count": 7,
   "metadata": {},
   "outputs": [
    {
     "data": {
      "text/html": [
       "<div>\n",
       "<style scoped>\n",
       "    .dataframe tbody tr th:only-of-type {\n",
       "        vertical-align: middle;\n",
       "    }\n",
       "\n",
       "    .dataframe tbody tr th {\n",
       "        vertical-align: top;\n",
       "    }\n",
       "\n",
       "    .dataframe thead th {\n",
       "        text-align: right;\n",
       "    }\n",
       "</style>\n",
       "<table border=\"1\" class=\"dataframe\">\n",
       "  <thead>\n",
       "    <tr style=\"text-align: right;\">\n",
       "      <th></th>\n",
       "      <th>menopause</th>\n",
       "      <th>Class</th>\n",
       "    </tr>\n",
       "  </thead>\n",
       "  <tbody>\n",
       "    <tr>\n",
       "      <th>count</th>\n",
       "      <td>286</td>\n",
       "      <td>286</td>\n",
       "    </tr>\n",
       "    <tr>\n",
       "      <th>unique</th>\n",
       "      <td>3</td>\n",
       "      <td>2</td>\n",
       "    </tr>\n",
       "    <tr>\n",
       "      <th>top</th>\n",
       "      <td>premeno</td>\n",
       "      <td>no-recurrence-events</td>\n",
       "    </tr>\n",
       "    <tr>\n",
       "      <th>freq</th>\n",
       "      <td>150</td>\n",
       "      <td>201</td>\n",
       "    </tr>\n",
       "  </tbody>\n",
       "</table>\n",
       "</div>"
      ],
      "text/plain": [
       "       menopause                 Class\n",
       "count        286                   286\n",
       "unique         3                     2\n",
       "top      premeno  no-recurrence-events\n",
       "freq         150                   201"
      ]
     },
     "execution_count": 7,
     "metadata": {},
     "output_type": "execute_result"
    }
   ],
   "source": [
    "#Display &check our float columns = menopause &&& Class\n",
    "trivariate_df.describe(include=[object])"
   ]
  },
  {
   "cell_type": "code",
   "execution_count": 9,
   "metadata": {},
   "outputs": [
    {
     "ename": "FileNotFoundError",
     "evalue": "[Errno 2] No such file or directory: 'output_data/trivariate.png'",
     "output_type": "error",
     "traceback": [
      "\u001b[0;31m---------------------------------------------------------------------------\u001b[0m",
      "\u001b[0;31mFileNotFoundError\u001b[0m                         Traceback (most recent call last)",
      "\u001b[1;32m/Users/molleighhughes/Desktop/Prjct1/trivariate.ipynb Cell 8\u001b[0m line \u001b[0;36m2\n\u001b[1;32m     <a href='vscode-notebook-cell:/Users/molleighhughes/Desktop/Prjct1/trivariate.ipynb#X14sZmlsZQ%3D%3D?line=19'>20</a>\u001b[0m plt\u001b[39m.\u001b[39mgrid\n\u001b[1;32m     <a href='vscode-notebook-cell:/Users/molleighhughes/Desktop/Prjct1/trivariate.ipynb#X14sZmlsZQ%3D%3D?line=21'>22</a>\u001b[0m \u001b[39m# Save the figure\u001b[39;00m\n\u001b[0;32m---> <a href='vscode-notebook-cell:/Users/molleighhughes/Desktop/Prjct1/trivariate.ipynb#X14sZmlsZQ%3D%3D?line=22'>23</a>\u001b[0m plt\u001b[39m.\u001b[39msavefig(\u001b[39m\"\u001b[39m\u001b[39moutput_data/trivariate.png\u001b[39m\u001b[39m\"\u001b[39m)\n\u001b[1;32m     <a href='vscode-notebook-cell:/Users/molleighhughes/Desktop/Prjct1/trivariate.ipynb#X14sZmlsZQ%3D%3D?line=24'>25</a>\u001b[0m \u001b[39m# Show the plot\u001b[39;00m\n\u001b[1;32m     <a href='vscode-notebook-cell:/Users/molleighhughes/Desktop/Prjct1/trivariate.ipynb#X14sZmlsZQ%3D%3D?line=25'>26</a>\u001b[0m plt\u001b[39m.\u001b[39mshow()\n",
      "File \u001b[0;32m~/anaconda3/lib/python3.11/site-packages/matplotlib/pyplot.py:1023\u001b[0m, in \u001b[0;36msavefig\u001b[0;34m(*args, **kwargs)\u001b[0m\n\u001b[1;32m   1020\u001b[0m \u001b[39m@_copy_docstring_and_deprecators\u001b[39m(Figure\u001b[39m.\u001b[39msavefig)\n\u001b[1;32m   1021\u001b[0m \u001b[39mdef\u001b[39;00m \u001b[39msavefig\u001b[39m(\u001b[39m*\u001b[39margs, \u001b[39m*\u001b[39m\u001b[39m*\u001b[39mkwargs):\n\u001b[1;32m   1022\u001b[0m     fig \u001b[39m=\u001b[39m gcf()\n\u001b[0;32m-> 1023\u001b[0m     res \u001b[39m=\u001b[39m fig\u001b[39m.\u001b[39msavefig(\u001b[39m*\u001b[39margs, \u001b[39m*\u001b[39m\u001b[39m*\u001b[39mkwargs)\n\u001b[1;32m   1024\u001b[0m     fig\u001b[39m.\u001b[39mcanvas\u001b[39m.\u001b[39mdraw_idle()  \u001b[39m# Need this if 'transparent=True', to reset colors.\u001b[39;00m\n\u001b[1;32m   1025\u001b[0m     \u001b[39mreturn\u001b[39;00m res\n",
      "File \u001b[0;32m~/anaconda3/lib/python3.11/site-packages/matplotlib/figure.py:3343\u001b[0m, in \u001b[0;36mFigure.savefig\u001b[0;34m(self, fname, transparent, **kwargs)\u001b[0m\n\u001b[1;32m   3339\u001b[0m     \u001b[39mfor\u001b[39;00m ax \u001b[39min\u001b[39;00m \u001b[39mself\u001b[39m\u001b[39m.\u001b[39maxes:\n\u001b[1;32m   3340\u001b[0m         stack\u001b[39m.\u001b[39menter_context(\n\u001b[1;32m   3341\u001b[0m             ax\u001b[39m.\u001b[39mpatch\u001b[39m.\u001b[39m_cm_set(facecolor\u001b[39m=\u001b[39m\u001b[39m'\u001b[39m\u001b[39mnone\u001b[39m\u001b[39m'\u001b[39m, edgecolor\u001b[39m=\u001b[39m\u001b[39m'\u001b[39m\u001b[39mnone\u001b[39m\u001b[39m'\u001b[39m))\n\u001b[0;32m-> 3343\u001b[0m \u001b[39mself\u001b[39m\u001b[39m.\u001b[39mcanvas\u001b[39m.\u001b[39mprint_figure(fname, \u001b[39m*\u001b[39m\u001b[39m*\u001b[39mkwargs)\n",
      "File \u001b[0;32m~/anaconda3/lib/python3.11/site-packages/matplotlib/backend_bases.py:2366\u001b[0m, in \u001b[0;36mFigureCanvasBase.print_figure\u001b[0;34m(self, filename, dpi, facecolor, edgecolor, orientation, format, bbox_inches, pad_inches, bbox_extra_artists, backend, **kwargs)\u001b[0m\n\u001b[1;32m   2362\u001b[0m \u001b[39mtry\u001b[39;00m:\n\u001b[1;32m   2363\u001b[0m     \u001b[39m# _get_renderer may change the figure dpi (as vector formats\u001b[39;00m\n\u001b[1;32m   2364\u001b[0m     \u001b[39m# force the figure dpi to 72), so we need to set it again here.\u001b[39;00m\n\u001b[1;32m   2365\u001b[0m     \u001b[39mwith\u001b[39;00m cbook\u001b[39m.\u001b[39m_setattr_cm(\u001b[39mself\u001b[39m\u001b[39m.\u001b[39mfigure, dpi\u001b[39m=\u001b[39mdpi):\n\u001b[0;32m-> 2366\u001b[0m         result \u001b[39m=\u001b[39m print_method(\n\u001b[1;32m   2367\u001b[0m             filename,\n\u001b[1;32m   2368\u001b[0m             facecolor\u001b[39m=\u001b[39mfacecolor,\n\u001b[1;32m   2369\u001b[0m             edgecolor\u001b[39m=\u001b[39medgecolor,\n\u001b[1;32m   2370\u001b[0m             orientation\u001b[39m=\u001b[39morientation,\n\u001b[1;32m   2371\u001b[0m             bbox_inches_restore\u001b[39m=\u001b[39m_bbox_inches_restore,\n\u001b[1;32m   2372\u001b[0m             \u001b[39m*\u001b[39m\u001b[39m*\u001b[39mkwargs)\n\u001b[1;32m   2373\u001b[0m \u001b[39mfinally\u001b[39;00m:\n\u001b[1;32m   2374\u001b[0m     \u001b[39mif\u001b[39;00m bbox_inches \u001b[39mand\u001b[39;00m restore_bbox:\n",
      "File \u001b[0;32m~/anaconda3/lib/python3.11/site-packages/matplotlib/backend_bases.py:2232\u001b[0m, in \u001b[0;36mFigureCanvasBase._switch_canvas_and_return_print_method.<locals>.<lambda>\u001b[0;34m(*args, **kwargs)\u001b[0m\n\u001b[1;32m   2228\u001b[0m     optional_kws \u001b[39m=\u001b[39m {  \u001b[39m# Passed by print_figure for other renderers.\u001b[39;00m\n\u001b[1;32m   2229\u001b[0m         \u001b[39m\"\u001b[39m\u001b[39mdpi\u001b[39m\u001b[39m\"\u001b[39m, \u001b[39m\"\u001b[39m\u001b[39mfacecolor\u001b[39m\u001b[39m\"\u001b[39m, \u001b[39m\"\u001b[39m\u001b[39medgecolor\u001b[39m\u001b[39m\"\u001b[39m, \u001b[39m\"\u001b[39m\u001b[39morientation\u001b[39m\u001b[39m\"\u001b[39m,\n\u001b[1;32m   2230\u001b[0m         \u001b[39m\"\u001b[39m\u001b[39mbbox_inches_restore\u001b[39m\u001b[39m\"\u001b[39m}\n\u001b[1;32m   2231\u001b[0m     skip \u001b[39m=\u001b[39m optional_kws \u001b[39m-\u001b[39m {\u001b[39m*\u001b[39minspect\u001b[39m.\u001b[39msignature(meth)\u001b[39m.\u001b[39mparameters}\n\u001b[0;32m-> 2232\u001b[0m     print_method \u001b[39m=\u001b[39m functools\u001b[39m.\u001b[39mwraps(meth)(\u001b[39mlambda\u001b[39;00m \u001b[39m*\u001b[39margs, \u001b[39m*\u001b[39m\u001b[39m*\u001b[39mkwargs: meth(\n\u001b[1;32m   2233\u001b[0m         \u001b[39m*\u001b[39margs, \u001b[39m*\u001b[39m\u001b[39m*\u001b[39m{k: v \u001b[39mfor\u001b[39;00m k, v \u001b[39min\u001b[39;00m kwargs\u001b[39m.\u001b[39mitems() \u001b[39mif\u001b[39;00m k \u001b[39mnot\u001b[39;00m \u001b[39min\u001b[39;00m skip}))\n\u001b[1;32m   2234\u001b[0m \u001b[39melse\u001b[39;00m:  \u001b[39m# Let third-parties do as they see fit.\u001b[39;00m\n\u001b[1;32m   2235\u001b[0m     print_method \u001b[39m=\u001b[39m meth\n",
      "File \u001b[0;32m~/anaconda3/lib/python3.11/site-packages/matplotlib/backends/backend_agg.py:509\u001b[0m, in \u001b[0;36mFigureCanvasAgg.print_png\u001b[0;34m(self, filename_or_obj, metadata, pil_kwargs)\u001b[0m\n\u001b[1;32m    462\u001b[0m \u001b[39mdef\u001b[39;00m \u001b[39mprint_png\u001b[39m(\u001b[39mself\u001b[39m, filename_or_obj, \u001b[39m*\u001b[39m, metadata\u001b[39m=\u001b[39m\u001b[39mNone\u001b[39;00m, pil_kwargs\u001b[39m=\u001b[39m\u001b[39mNone\u001b[39;00m):\n\u001b[1;32m    463\u001b[0m \u001b[39m    \u001b[39m\u001b[39m\"\"\"\u001b[39;00m\n\u001b[1;32m    464\u001b[0m \u001b[39m    Write the figure to a PNG file.\u001b[39;00m\n\u001b[1;32m    465\u001b[0m \n\u001b[0;32m   (...)\u001b[0m\n\u001b[1;32m    507\u001b[0m \u001b[39m        *metadata*, including the default 'Software' key.\u001b[39;00m\n\u001b[1;32m    508\u001b[0m \u001b[39m    \"\"\"\u001b[39;00m\n\u001b[0;32m--> 509\u001b[0m     \u001b[39mself\u001b[39m\u001b[39m.\u001b[39m_print_pil(filename_or_obj, \u001b[39m\"\u001b[39m\u001b[39mpng\u001b[39m\u001b[39m\"\u001b[39m, pil_kwargs, metadata)\n",
      "File \u001b[0;32m~/anaconda3/lib/python3.11/site-packages/matplotlib/backends/backend_agg.py:458\u001b[0m, in \u001b[0;36mFigureCanvasAgg._print_pil\u001b[0;34m(self, filename_or_obj, fmt, pil_kwargs, metadata)\u001b[0m\n\u001b[1;32m    453\u001b[0m \u001b[39m\u001b[39m\u001b[39m\"\"\"\u001b[39;00m\n\u001b[1;32m    454\u001b[0m \u001b[39mDraw the canvas, then save it using `.image.imsave` (to which\u001b[39;00m\n\u001b[1;32m    455\u001b[0m \u001b[39m*pil_kwargs* and *metadata* are forwarded).\u001b[39;00m\n\u001b[1;32m    456\u001b[0m \u001b[39m\"\"\"\u001b[39;00m\n\u001b[1;32m    457\u001b[0m FigureCanvasAgg\u001b[39m.\u001b[39mdraw(\u001b[39mself\u001b[39m)\n\u001b[0;32m--> 458\u001b[0m mpl\u001b[39m.\u001b[39mimage\u001b[39m.\u001b[39mimsave(\n\u001b[1;32m    459\u001b[0m     filename_or_obj, \u001b[39mself\u001b[39m\u001b[39m.\u001b[39mbuffer_rgba(), \u001b[39mformat\u001b[39m\u001b[39m=\u001b[39mfmt, origin\u001b[39m=\u001b[39m\u001b[39m\"\u001b[39m\u001b[39mupper\u001b[39m\u001b[39m\"\u001b[39m,\n\u001b[1;32m    460\u001b[0m     dpi\u001b[39m=\u001b[39m\u001b[39mself\u001b[39m\u001b[39m.\u001b[39mfigure\u001b[39m.\u001b[39mdpi, metadata\u001b[39m=\u001b[39mmetadata, pil_kwargs\u001b[39m=\u001b[39mpil_kwargs)\n",
      "File \u001b[0;32m~/anaconda3/lib/python3.11/site-packages/matplotlib/image.py:1689\u001b[0m, in \u001b[0;36mimsave\u001b[0;34m(fname, arr, vmin, vmax, cmap, format, origin, dpi, metadata, pil_kwargs)\u001b[0m\n\u001b[1;32m   1687\u001b[0m pil_kwargs\u001b[39m.\u001b[39msetdefault(\u001b[39m\"\u001b[39m\u001b[39mformat\u001b[39m\u001b[39m\"\u001b[39m, \u001b[39mformat\u001b[39m)\n\u001b[1;32m   1688\u001b[0m pil_kwargs\u001b[39m.\u001b[39msetdefault(\u001b[39m\"\u001b[39m\u001b[39mdpi\u001b[39m\u001b[39m\"\u001b[39m, (dpi, dpi))\n\u001b[0;32m-> 1689\u001b[0m image\u001b[39m.\u001b[39msave(fname, \u001b[39m*\u001b[39m\u001b[39m*\u001b[39mpil_kwargs)\n",
      "File \u001b[0;32m~/anaconda3/lib/python3.11/site-packages/PIL/Image.py:2428\u001b[0m, in \u001b[0;36mImage.save\u001b[0;34m(self, fp, format, **params)\u001b[0m\n\u001b[1;32m   2426\u001b[0m         fp \u001b[39m=\u001b[39m builtins\u001b[39m.\u001b[39mopen(filename, \u001b[39m\"\u001b[39m\u001b[39mr+b\u001b[39m\u001b[39m\"\u001b[39m)\n\u001b[1;32m   2427\u001b[0m     \u001b[39melse\u001b[39;00m:\n\u001b[0;32m-> 2428\u001b[0m         fp \u001b[39m=\u001b[39m builtins\u001b[39m.\u001b[39mopen(filename, \u001b[39m\"\u001b[39m\u001b[39mw+b\u001b[39m\u001b[39m\"\u001b[39m)\n\u001b[1;32m   2430\u001b[0m \u001b[39mtry\u001b[39;00m:\n\u001b[1;32m   2431\u001b[0m     save_handler(\u001b[39mself\u001b[39m, fp, filename)\n",
      "\u001b[0;31mFileNotFoundError\u001b[0m: [Errno 2] No such file or directory: 'output_data/trivariate.png'"
     ]
    },
    {
     "data": {
      "image/png": "[encoded data removed]",
      "text/plain": [
       "<Figure size 640x480 with 1 Axes>"
      ]
     },
     "metadata": {},
     "output_type": "display_data"
    }
   ],
   "source": [
    "#organize\n",
    "x = trivariate_df[\"Survival Months\"]\n",
    "y = trivariate_df[\"menopause\"]\n",
    "category = trivariate_df[\"Class\"]\n",
    "\n",
    "# apply the default theme \n",
    "sns.set_theme(style=\"whitegrid\", palette=\"dark\")\n",
    "\n",
    "\n",
    "\n",
    "\n",
    "#Create a scatter plot with \"hue\" semantic \n",
    "sns.stripplot(data=trivariate_df, x=x, y=y, hue=category, jitter=True, dodge=True, size=2, )\n",
    "\n",
    "#Include more on your graph \n",
    "plt.legend(bbox_to_anchor=(1.25, 1), borderaxespad=0)\n",
    "plt.title(f\"Trivariate Graph: Months Survived, Stage of Menopuase, Recurrence Status\", weight='bold')\n",
    "plt.xlabel(\"Number of Months Survived\", weight='bold')\n",
    "plt.ylabel(\"Stage of Menopause\", weight='bold') \n",
    "plt.grid\n",
    "\n",
    "# Save the figure\n",
    "plt.savefig(\"output_data/trivariate.png\")\n",
    "\n",
    "# Show the plot\n",
    "plt.show()"
   ]
  }
 ],
 "metadata": {
  "kernelspec": {
   "display_name": "base",
   "language": "python",
   "name": "python3"
  },
  "language_info": {
   "codemirror_mode": {
    "name": "ipython",
    "version": 3
   },
   "file_extension": ".py",
   "mimetype": "text/x-python",
   "name": "python",
   "nbconvert_exporter": "python",
   "pygments_lexer": "ipython3",
   "version": "3.11.4"
  },
  "orig_nbformat": 4
 },
 "nbformat": 4,
 "nbformat_minor": 2
}
