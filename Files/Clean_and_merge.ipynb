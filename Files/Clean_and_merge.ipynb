{
 "cells": [
  {
   "cell_type": "code",
   "execution_count": 1,
   "metadata": {},
   "outputs": [],
   "source": [
    "# Dependencies and Setup\n",
    "import csv\n",
    "import numpy as np\n",
    "import pandas as pd\n",
    "import scipy.stats as st\n",
    "import seaborn as sns\n",
    "import matplotlib.pyplot as plt\n",
    "\n",
    "from scipy import stats\n",
    "\n"
   ]
  },
  {
   "cell_type": "code",
   "execution_count": 2,
   "metadata": {},
   "outputs": [
    {
     "name": "stdout",
     "output_type": "stream",
     "text": [
      "      age1  age menopause tumor-size inv-nodes node-caps  deg-malig breast  \\\n",
      "0    40-49   45   premeno      15-19       0-2       yes          3  right   \n",
      "1    40-50   45      ge40      15-19       0-2        no          1  right   \n",
      "2    40-51   46      ge40      35-39       0-2        no          2   left   \n",
      "3    40-52   46   premeno      35-39       0-2       yes          3  right   \n",
      "4    40-53   47   premeno      30-34       3-5       yes          2   left   \n",
      "..     ...  ...       ...        ...       ...       ...        ...    ...   \n",
      "281  50-59   55      ge40      30-34       6-8       yes          2   left   \n",
      "282  50-59   55   premeno      25-29       3-5       yes          2   left   \n",
      "283  30-39   35   premeno      30-34       6-8       yes          2  right   \n",
      "284  50-59   55   premeno      15-19       0-2        no          2  right   \n",
      "285  50-59   55      ge40      40-44       0-2        no          3   left   \n",
      "\n",
      "    breast-quad irradiat                 Class  \n",
      "0       left_up       no     recurrence-events  \n",
      "1       central       no  no-recurrence-events  \n",
      "2      left_low       no     recurrence-events  \n",
      "3      left_low      yes  no-recurrence-events  \n",
      "4      right_up       no     recurrence-events  \n",
      "..          ...      ...                   ...  \n",
      "281    left_low       no  no-recurrence-events  \n",
      "282    left_low      yes  no-recurrence-events  \n",
      "283    right_up       no  no-recurrence-events  \n",
      "284    left_low       no  no-recurrence-events  \n",
      "285    right_up       no  no-recurrence-events  \n",
      "\n",
      "[286 rows x 11 columns]\n"
     ]
    }
   ],
   "source": [
    "# Study data files\n",
    "clean_data_path = \"data/breast_cancer3.csv\"\n",
    "unclean_data_path = \"data/uncleandata.csv\"\n",
    "\n",
    "#Read breast cancer data & study the results\n",
    "clean_df = pd.read_csv(clean_data_path)\n",
    "unclean_df = pd.read_csv(unclean_data_path)\n",
    "\n",
    "#Display the data table for review \n",
    "print(clean_df)"
   ]
  },
  {
   "cell_type": "code",
   "execution_count": 3,
   "metadata": {},
   "outputs": [
    {
     "name": "stdout",
     "output_type": "stream",
     "text": [
      "      Age   Race Marital Status T Stage  N Stage 6th Stage  \\\n",
      "0      68  White        Married       T1      N1       IIA   \n",
      "1      50  White        Married       T2      N2      IIIA   \n",
      "2      58  White       Divorced       T3      N3      IIIC   \n",
      "3      58  White        Married       T1      N1       IIA   \n",
      "4      47  White        Married       T2      N1       IIB   \n",
      "...   ...    ...            ...      ...     ...       ...   \n",
      "4019   62  Other        Married       T1      N1       IIA   \n",
      "4020   56  White       Divorced       T2      N2      IIIA   \n",
      "4021   68  White        Married       T2      N1       IIB   \n",
      "4022   58  Black       Divorced       T2      N1       IIB   \n",
      "4023   46  White        Married       T2      N1       IIB   \n",
      "\n",
      "                  differentiate Grade   A Stage  Tumor Size Estrogen Status  \\\n",
      "0         Poorly differentiated     3  Regional           4        Positive   \n",
      "1     Moderately differentiated     2  Regional          35        Positive   \n",
      "2     Moderately differentiated     2  Regional          63        Positive   \n",
      "3         Poorly differentiated     3  Regional          18        Positive   \n",
      "4         Poorly differentiated     3  Regional          41        Positive   \n",
      "...                         ...   ...       ...         ...             ...   \n",
      "4019  Moderately differentiated     2  Regional           9        Positive   \n",
      "4020  Moderately differentiated     2  Regional          46        Positive   \n",
      "4021  Moderately differentiated     2  Regional          22        Positive   \n",
      "4022  Moderately differentiated     2  Regional          44        Positive   \n",
      "4023  Moderately differentiated     2  Regional          30        Positive   \n",
      "\n",
      "     Progesterone Status  Regional Node Examined  Reginol Node Positive  \\\n",
      "0               Positive                      24                      1   \n",
      "1               Positive                      14                      5   \n",
      "2               Positive                      14                      7   \n",
      "3               Positive                       2                      1   \n",
      "4               Positive                       3                      1   \n",
      "...                  ...                     ...                    ...   \n",
      "4019            Positive                       1                      1   \n",
      "4020            Positive                      14                      8   \n",
      "4021            Negative                      11                      3   \n",
      "4022            Positive                      11                      1   \n",
      "4023            Positive                       7                      2   \n",
      "\n",
      "      Survival Months Status  \n",
      "0                  60  Alive  \n",
      "1                  62  Alive  \n",
      "2                  75  Alive  \n",
      "3                  84  Alive  \n",
      "4                  50  Alive  \n",
      "...               ...    ...  \n",
      "4019               49  Alive  \n",
      "4020               69  Alive  \n",
      "4021               69  Alive  \n",
      "4022               72  Alive  \n",
      "4023              100  Alive  \n",
      "\n",
      "[4024 rows x 16 columns]\n"
     ]
    }
   ],
   "source": [
    "#Display the data table for review \n",
    "print(unclean_df)"
   ]
  },
  {
   "cell_type": "code",
   "execution_count": 4,
   "metadata": {},
   "outputs": [
    {
     "name": "stdout",
     "output_type": "stream",
     "text": [
      "     menopause                 Class  Survival Months\n",
      "0      premeno     recurrence-events               60\n",
      "1         ge40  no-recurrence-events               62\n",
      "2         ge40     recurrence-events               75\n",
      "3      premeno  no-recurrence-events               84\n",
      "4      premeno     recurrence-events               50\n",
      "...        ...                   ...              ...\n",
      "4019       NaN                   NaN               49\n",
      "4020       NaN                   NaN               69\n",
      "4021       NaN                   NaN               69\n",
      "4022       NaN                   NaN               72\n",
      "4023       NaN                   NaN              100\n",
      "\n",
      "[4024 rows x 3 columns]\n"
     ]
    }
   ],
   "source": [
    "#Combine data into a single DataFrame\n",
    "\n",
    "#Select the non-contiguous columns I want to merge from clean_df\n",
    "clean_columns = clean_df[['menopause', 'Class']]\n",
    "\n",
    "#Select the column I want to merge from unclean_df\n",
    "unclean_column = unclean_df[['Survival Months']]\n",
    "\n",
    "#Concatenate the selected columns horizontally (along columns)\n",
    "trivariate_df = pd.concat([clean_columns, unclean_column], axis=1)\n",
    "\n",
    "#Display theh data tabel for preview\n",
    "print(trivariate_df)"
   ]
  },
  {
   "cell_type": "code",
   "execution_count": 5,
   "metadata": {},
   "outputs": [
    {
     "data": {
      "text/html": [
       "<div>\n",
       "<style scoped>\n",
       "    .dataframe tbody tr th:only-of-type {\n",
       "        vertical-align: middle;\n",
       "    }\n",
       "\n",
       "    .dataframe tbody tr th {\n",
       "        vertical-align: top;\n",
       "    }\n",
       "\n",
       "    .dataframe thead th {\n",
       "        text-align: right;\n",
       "    }\n",
       "</style>\n",
       "<table border=\"1\" class=\"dataframe\">\n",
       "  <thead>\n",
       "    <tr style=\"text-align: right;\">\n",
       "      <th></th>\n",
       "      <th>Survival Months</th>\n",
       "    </tr>\n",
       "  </thead>\n",
       "  <tbody>\n",
       "    <tr>\n",
       "      <th>count</th>\n",
       "      <td>4024.000000</td>\n",
       "    </tr>\n",
       "    <tr>\n",
       "      <th>mean</th>\n",
       "      <td>71.297962</td>\n",
       "    </tr>\n",
       "    <tr>\n",
       "      <th>std</th>\n",
       "      <td>22.921430</td>\n",
       "    </tr>\n",
       "    <tr>\n",
       "      <th>min</th>\n",
       "      <td>1.000000</td>\n",
       "    </tr>\n",
       "    <tr>\n",
       "      <th>25%</th>\n",
       "      <td>56.000000</td>\n",
       "    </tr>\n",
       "    <tr>\n",
       "      <th>50%</th>\n",
       "      <td>73.000000</td>\n",
       "    </tr>\n",
       "    <tr>\n",
       "      <th>75%</th>\n",
       "      <td>90.000000</td>\n",
       "    </tr>\n",
       "    <tr>\n",
       "      <th>max</th>\n",
       "      <td>107.000000</td>\n",
       "    </tr>\n",
       "  </tbody>\n",
       "</table>\n",
       "</div>"
      ],
      "text/plain": [
       "       Survival Months\n",
       "count      4024.000000\n",
       "mean         71.297962\n",
       "std          22.921430\n",
       "min           1.000000\n",
       "25%          56.000000\n",
       "50%          73.000000\n",
       "75%          90.000000\n",
       "max         107.000000"
      ]
     },
     "execution_count": 5,
     "metadata": {},
     "output_type": "execute_result"
    }
   ],
   "source": [
    "#Display & check our integer column = Survival Months\n",
    "trivariate_df.describe(include=[np.number])"
   ]
  },
  {
   "cell_type": "code",
   "execution_count": 6,
   "metadata": {},
   "outputs": [
    {
     "data": {
      "text/html": [
       "<div>\n",
       "<style scoped>\n",
       "    .dataframe tbody tr th:only-of-type {\n",
       "        vertical-align: middle;\n",
       "    }\n",
       "\n",
       "    .dataframe tbody tr th {\n",
       "        vertical-align: top;\n",
       "    }\n",
       "\n",
       "    .dataframe thead th {\n",
       "        text-align: right;\n",
       "    }\n",
       "</style>\n",
       "<table border=\"1\" class=\"dataframe\">\n",
       "  <thead>\n",
       "    <tr style=\"text-align: right;\">\n",
       "      <th></th>\n",
       "      <th>menopause</th>\n",
       "      <th>Class</th>\n",
       "    </tr>\n",
       "  </thead>\n",
       "  <tbody>\n",
       "    <tr>\n",
       "      <th>count</th>\n",
       "      <td>286</td>\n",
       "      <td>286</td>\n",
       "    </tr>\n",
       "    <tr>\n",
       "      <th>unique</th>\n",
       "      <td>3</td>\n",
       "      <td>2</td>\n",
       "    </tr>\n",
       "    <tr>\n",
       "      <th>top</th>\n",
       "      <td>premeno</td>\n",
       "      <td>no-recurrence-events</td>\n",
       "    </tr>\n",
       "    <tr>\n",
       "      <th>freq</th>\n",
       "      <td>150</td>\n",
       "      <td>201</td>\n",
       "    </tr>\n",
       "  </tbody>\n",
       "</table>\n",
       "</div>"
      ],
      "text/plain": [
       "       menopause                 Class\n",
       "count        286                   286\n",
       "unique         3                     2\n",
       "top      premeno  no-recurrence-events\n",
       "freq         150                   201"
      ]
     },
     "execution_count": 6,
     "metadata": {},
     "output_type": "execute_result"
    }
   ],
   "source": [
    "#Display &check our float columns = menopause &&& Class\n",
    "trivariate_df.describe(include=[object])\n"
   ]
  },
  {
   "cell_type": "code",
   "execution_count": 7,
   "metadata": {},
   "outputs": [
    {
     "data": {
      "image/png": "[encoded data removed]",
      "text/plain": [
       "<Figure size 640x480 with 1 Axes>"
      ]
     },
     "metadata": {},
     "output_type": "display_data"
    }
   ],
   "source": [
    "#organize\n",
    "x = trivariate_df[\"Survival Months\"]\n",
    "y = trivariate_df[\"menopause\"]\n",
    "category = trivariate_df[\"Class\"]\n",
    "\n",
    "# apply the default theme \n",
    "sns.set_theme(style=\"whitegrid\", palette=\"dark\")\n",
    "\n",
    "\n",
    "\n",
    "\n",
    "#Create a scatter plot with \"hue\" semantic \n",
    "sns.stripplot(data=trivariate_df, x=x, y=y, hue=category, jitter=True, dodge=True, size=2, )\n",
    "\n",
    "#Include more on your graph \n",
    "plt.legend(bbox_to_anchor=(1.25, 1), borderaxespad=0)\n",
    "plt.title(f\"Trivariate Graph: Months Survived, Stage of Menopuase, Recurrence Status\", weight='bold')\n",
    "plt.xlabel(\"Number of Months Survived\", weight='bold')\n",
    "plt.ylabel(\"Stage of Menopause\", weight='bold') \n",
    "plt.grid\n",
    "\n",
    "# Save the figure\n",
    "plt.savefig(\"output_data/trivariate.png\")\n",
    "\n",
    "# Show the plot\n",
    "plt.show()"
   ]
  }
 ],
 "metadata": {
  "kernelspec": {
   "display_name": "base",
   "language": "python",
   "name": "python3"
  },
  "language_info": {
   "codemirror_mode": {
    "name": "ipython",
    "version": 3
   },
   "file_extension": ".py",
   "mimetype": "text/x-python",
   "name": "python",
   "nbconvert_exporter": "python",
   "pygments_lexer": "ipython3",
   "version": "3.11.4"
  },
  "orig_nbformat": 4
 },
 "nbformat": 4,
 "nbformat_minor": 2
}
