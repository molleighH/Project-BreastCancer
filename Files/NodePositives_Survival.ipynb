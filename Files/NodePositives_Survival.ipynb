{
 "cells": [
  {
   "cell_type": "code",
   "execution_count": null,
   "metadata": {},
   "outputs": [],
   "source": [
    "import matplotlib.pyplot as mpl\n",
    "import pandas as pd\n",
    "import numpy as np\n",
    "from scipy.stats import chi2_contingency\n",
    "from statsmodels.graphics.mosaicplot import mosaic"
   ]
  },
  {
   "cell_type": "code",
   "execution_count": null,
   "metadata": {},
   "outputs": [],
   "source": [
    "df = pd.read_csv(r'/Users/mira.smith/Desktop/uncleandata.csv')"
   ]
  },
  {
   "cell_type": "code",
   "execution_count": null,
   "metadata": {},
   "outputs": [],
   "source": [
    "def get_survival_month_group(months):\n",
    "    if months < 45:\n",
    "        return '<45 Months'\n",
    "    elif months <= 60:\n",
    "        return '45-60 Months'\n",
    "    elif months <= 75:\n",
    "        return '61-75 Months'\n",
    "    else:\n",
    "        return '76+ Months'"
   ]
  },
  {
   "cell_type": "code",
   "execution_count": null,
   "metadata": {},
   "outputs": [],
   "source": [
    "df['Survival Month Group'] = df['Survival Months'].apply(get_survival_month_group)"
   ]
  },
  {
   "cell_type": "code",
   "execution_count": null,
   "metadata": {},
   "outputs": [],
   "source": [
    "survival_order = ['<45 Months', '45-60 Months', '61-75 Months', '76+ Months']\n",
    "df['Survival Month Group'] = pd.Categorical(df['Survival Month Group'], categories=survival_order, ordered=True)\n",
    "df = df.sort_values('Survival Month Group')"
   ]
  },
  {
   "cell_type": "code",
   "execution_count": null,
   "metadata": {},
   "outputs": [],
   "source": [
    "grouped = df.groupby(['Reginol Node Positive', 'Survival Month Group']).size().unstack()"
   ]
  },
  {
   "cell_type": "code",
   "execution_count": null,
   "metadata": {},
   "outputs": [],
   "source": [
    "grouped.plot(kind='line')"
   ]
  },
  {
   "cell_type": "code",
   "execution_count": null,
   "metadata": {},
   "outputs": [],
   "source": [
    "mpl.xlabel('Number of Positive Regional Nodes')\n",
    "mpl.ylabel('Number of Patients Surviving to x Months')\n",
    "mpl.title('Survival Month Distribution by Marital Status')\n",
    "mpl.legend(title='Range of Months Survived', loc='upper right')\n",
    "mpl.show()"
   ]
  },
  {
   "cell_type": "code",
   "execution_count": null,
   "metadata": {},
   "outputs": [],
   "source": [
    "grouped.describe()"
   ]
  }
 ],
 "metadata": {
  "language_info": {
   "name": "python"
  }
 },
 "nbformat": 4,
 "nbformat_minor": 2
}
